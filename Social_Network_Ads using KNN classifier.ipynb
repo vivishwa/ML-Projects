{
 "cells": [
  {
   "cell_type": "markdown",
   "metadata": {},
   "source": [
    "## Social_Network_Ads using KNN classifier"
   ]
  },
  {
   "cell_type": "code",
   "execution_count": 1,
   "metadata": {},
   "outputs": [],
   "source": [
    "import numpy as np\n",
    "import pandas as pd\n",
    "import matplotlib.pyplot as plt"
   ]
  },
  {
   "cell_type": "code",
   "execution_count": 2,
   "metadata": {},
   "outputs": [],
   "source": [
    "data = pd.read_csv('Social_Network_Ads.csv')"
   ]
  },
  {
   "cell_type": "code",
   "execution_count": 3,
   "metadata": {},
   "outputs": [
    {
     "data": {
      "text/html": [
       "<div>\n",
       "<style scoped>\n",
       "    .dataframe tbody tr th:only-of-type {\n",
       "        vertical-align: middle;\n",
       "    }\n",
       "\n",
       "    .dataframe tbody tr th {\n",
       "        vertical-align: top;\n",
       "    }\n",
       "\n",
       "    .dataframe thead th {\n",
       "        text-align: right;\n",
       "    }\n",
       "</style>\n",
       "<table border=\"1\" class=\"dataframe\">\n",
       "  <thead>\n",
       "    <tr style=\"text-align: right;\">\n",
       "      <th></th>\n",
       "      <th>User ID</th>\n",
       "      <th>Gender</th>\n",
       "      <th>Age</th>\n",
       "      <th>EstimatedSalary</th>\n",
       "      <th>Purchased</th>\n",
       "    </tr>\n",
       "  </thead>\n",
       "  <tbody>\n",
       "    <tr>\n",
       "      <th>0</th>\n",
       "      <td>15624510</td>\n",
       "      <td>Male</td>\n",
       "      <td>19</td>\n",
       "      <td>19000</td>\n",
       "      <td>0</td>\n",
       "    </tr>\n",
       "    <tr>\n",
       "      <th>1</th>\n",
       "      <td>15810944</td>\n",
       "      <td>Male</td>\n",
       "      <td>35</td>\n",
       "      <td>20000</td>\n",
       "      <td>0</td>\n",
       "    </tr>\n",
       "    <tr>\n",
       "      <th>2</th>\n",
       "      <td>15668575</td>\n",
       "      <td>Female</td>\n",
       "      <td>26</td>\n",
       "      <td>43000</td>\n",
       "      <td>0</td>\n",
       "    </tr>\n",
       "    <tr>\n",
       "      <th>3</th>\n",
       "      <td>15603246</td>\n",
       "      <td>Female</td>\n",
       "      <td>27</td>\n",
       "      <td>57000</td>\n",
       "      <td>0</td>\n",
       "    </tr>\n",
       "    <tr>\n",
       "      <th>4</th>\n",
       "      <td>15804002</td>\n",
       "      <td>Male</td>\n",
       "      <td>19</td>\n",
       "      <td>76000</td>\n",
       "      <td>0</td>\n",
       "    </tr>\n",
       "  </tbody>\n",
       "</table>\n",
       "</div>"
      ],
      "text/plain": [
       "    User ID  Gender  Age  EstimatedSalary  Purchased\n",
       "0  15624510    Male   19            19000          0\n",
       "1  15810944    Male   35            20000          0\n",
       "2  15668575  Female   26            43000          0\n",
       "3  15603246  Female   27            57000          0\n",
       "4  15804002    Male   19            76000          0"
      ]
     },
     "execution_count": 3,
     "metadata": {},
     "output_type": "execute_result"
    }
   ],
   "source": [
    "data.head()"
   ]
  },
  {
   "cell_type": "code",
   "execution_count": 63,
   "metadata": {},
   "outputs": [
    {
     "data": {
      "text/html": [
       "<div>\n",
       "<style scoped>\n",
       "    .dataframe tbody tr th:only-of-type {\n",
       "        vertical-align: middle;\n",
       "    }\n",
       "\n",
       "    .dataframe tbody tr th {\n",
       "        vertical-align: top;\n",
       "    }\n",
       "\n",
       "    .dataframe thead th {\n",
       "        text-align: right;\n",
       "    }\n",
       "</style>\n",
       "<table border=\"1\" class=\"dataframe\">\n",
       "  <thead>\n",
       "    <tr style=\"text-align: right;\">\n",
       "      <th></th>\n",
       "      <th>Age</th>\n",
       "      <th>EstimatedSalary</th>\n",
       "    </tr>\n",
       "  </thead>\n",
       "  <tbody>\n",
       "    <tr>\n",
       "      <th>0</th>\n",
       "      <td>19</td>\n",
       "      <td>19000</td>\n",
       "    </tr>\n",
       "    <tr>\n",
       "      <th>1</th>\n",
       "      <td>35</td>\n",
       "      <td>20000</td>\n",
       "    </tr>\n",
       "    <tr>\n",
       "      <th>2</th>\n",
       "      <td>26</td>\n",
       "      <td>43000</td>\n",
       "    </tr>\n",
       "    <tr>\n",
       "      <th>3</th>\n",
       "      <td>27</td>\n",
       "      <td>57000</td>\n",
       "    </tr>\n",
       "    <tr>\n",
       "      <th>4</th>\n",
       "      <td>19</td>\n",
       "      <td>76000</td>\n",
       "    </tr>\n",
       "    <tr>\n",
       "      <th>...</th>\n",
       "      <td>...</td>\n",
       "      <td>...</td>\n",
       "    </tr>\n",
       "    <tr>\n",
       "      <th>395</th>\n",
       "      <td>46</td>\n",
       "      <td>41000</td>\n",
       "    </tr>\n",
       "    <tr>\n",
       "      <th>396</th>\n",
       "      <td>51</td>\n",
       "      <td>23000</td>\n",
       "    </tr>\n",
       "    <tr>\n",
       "      <th>397</th>\n",
       "      <td>50</td>\n",
       "      <td>20000</td>\n",
       "    </tr>\n",
       "    <tr>\n",
       "      <th>398</th>\n",
       "      <td>36</td>\n",
       "      <td>33000</td>\n",
       "    </tr>\n",
       "    <tr>\n",
       "      <th>399</th>\n",
       "      <td>49</td>\n",
       "      <td>36000</td>\n",
       "    </tr>\n",
       "  </tbody>\n",
       "</table>\n",
       "<p>400 rows × 2 columns</p>\n",
       "</div>"
      ],
      "text/plain": [
       "     Age  EstimatedSalary\n",
       "0     19            19000\n",
       "1     35            20000\n",
       "2     26            43000\n",
       "3     27            57000\n",
       "4     19            76000\n",
       "..   ...              ...\n",
       "395   46            41000\n",
       "396   51            23000\n",
       "397   50            20000\n",
       "398   36            33000\n",
       "399   49            36000\n",
       "\n",
       "[400 rows x 2 columns]"
      ]
     },
     "execution_count": 63,
     "metadata": {},
     "output_type": "execute_result"
    }
   ],
   "source": [
    "data.iloc[:,2:4]"
   ]
  },
  {
   "cell_type": "code",
   "execution_count": 64,
   "metadata": {},
   "outputs": [
    {
     "data": {
      "text/plain": [
       "(400, 3)"
      ]
     },
     "execution_count": 64,
     "metadata": {},
     "output_type": "execute_result"
    }
   ],
   "source": [
    "X.shape"
   ]
  },
  {
   "cell_type": "code",
   "execution_count": 6,
   "metadata": {},
   "outputs": [],
   "source": [
    "y=data.iloc[:,-1].values"
   ]
  },
  {
   "cell_type": "code",
   "execution_count": 53,
   "metadata": {},
   "outputs": [
    {
     "data": {
      "text/plain": [
       "(400,)"
      ]
     },
     "execution_count": 53,
     "metadata": {},
     "output_type": "execute_result"
    }
   ],
   "source": [
    "y.shape"
   ]
  },
  {
   "cell_type": "code",
   "execution_count": 8,
   "metadata": {},
   "outputs": [],
   "source": [
    "from sklearn.model_selection import train_test_split\n",
    "X_train,X_test,y_train,y_test=train_test_split(X,y,test_size=0.2)"
   ]
  },
  {
   "cell_type": "code",
   "execution_count": 9,
   "metadata": {},
   "outputs": [
    {
     "data": {
      "text/plain": [
       "(320, 2)"
      ]
     },
     "execution_count": 9,
     "metadata": {},
     "output_type": "execute_result"
    }
   ],
   "source": [
    "X_train.shape"
   ]
  },
  {
   "cell_type": "code",
   "execution_count": 10,
   "metadata": {},
   "outputs": [
    {
     "data": {
      "text/plain": [
       "(80, 2)"
      ]
     },
     "execution_count": 10,
     "metadata": {},
     "output_type": "execute_result"
    }
   ],
   "source": [
    "X_test.shape"
   ]
  },
  {
   "cell_type": "code",
   "execution_count": 11,
   "metadata": {},
   "outputs": [],
   "source": [
    "from sklearn.preprocessing import StandardScaler\n",
    "scaler = StandardScaler()"
   ]
  },
  {
   "cell_type": "code",
   "execution_count": 12,
   "metadata": {
    "collapsed": true
   },
   "outputs": [
    {
     "data": {
      "text/plain": [
       "array([[-1.31821081,  0.3961468 ],\n",
       "       [ 0.78233335,  1.35474216],\n",
       "       [-1.79560721,  0.16376004],\n",
       "       [-1.41369009,  0.33805011],\n",
       "       [ 0.11397839,  0.07661501],\n",
       "       [-1.31821081, -0.44625519],\n",
       "       [ 0.78233335, -0.33006181],\n",
       "       [ 2.02356399,  0.51234017],\n",
       "       [-0.26793873,  0.04756666],\n",
       "       [ 2.02356399,  0.16376004],\n",
       "       [ 2.02356399, -1.20151214],\n",
       "       [-0.74533513,  0.27995342],\n",
       "       [-0.26793873, -0.27196512],\n",
       "       [-0.36341801,  1.29664547],\n",
       "       [-1.70012793,  0.33805011],\n",
       "       [ 0.01849911, -0.15577175],\n",
       "       [-0.26793873, -0.44625519],\n",
       "       [-0.07698017,  0.27995342],\n",
       "       [ 0.78233335, -1.23056049],\n",
       "       [ 0.40041623, -0.15577175],\n",
       "       [ 0.87781263, -1.1724638 ],\n",
       "       [ 0.20945767, -0.3881585 ],\n",
       "       [-1.22273153, -1.08531877],\n",
       "       [ 0.87781263,  2.13904746],\n",
       "       [-0.93629369, -0.44625519],\n",
       "       [-0.26793873, -1.25960883],\n",
       "       [ 0.11397839, -0.27196512],\n",
       "       [ 0.87781263, -1.05627042],\n",
       "       [-0.07698017,  0.25090507],\n",
       "       [-0.74533513, -1.55009228],\n",
       "       [-0.84081441, -0.79483532],\n",
       "       [-1.12725225,  0.27995342],\n",
       "       [-1.03177297, -0.35911016],\n",
       "       [-1.03177297,  0.57043686],\n",
       "       [-0.26793873,  0.77377527],\n",
       "       [ 0.68685407,  0.25090507],\n",
       "       [ 0.97329191,  0.57043686],\n",
       "       [-0.17245945,  1.3837905 ],\n",
       "       [ 0.97329191,  1.76141898],\n",
       "       [-1.12725225, -1.1724638 ],\n",
       "       [-1.89108649, -0.06862671],\n",
       "       [ 0.97329191,  0.10566335],\n",
       "       [-0.26793873, -0.15577175],\n",
       "       [-0.74533513,  1.32569382],\n",
       "       [-0.93629369,  0.25090507],\n",
       "       [ 0.11397839,  0.1347117 ],\n",
       "       [-0.07698017, -0.53340022],\n",
       "       [-0.07698017,  0.1347117 ],\n",
       "       [-0.74533513,  1.06425872],\n",
       "       [ 0.11397839,  0.01851832],\n",
       "       [-1.50916937, -1.25960883],\n",
       "       [-1.89108649, -0.76578698],\n",
       "       [-0.17245945,  2.13904746],\n",
       "       [ 0.01849911, -0.44625519],\n",
       "       [-0.26793873, -0.30101347],\n",
       "       [ 1.16425047, -1.46294724],\n",
       "       [ 1.73712615,  0.97711368],\n",
       "       [ 0.20945767, -0.33006181],\n",
       "       [-1.12725225,  0.27995342],\n",
       "       [-1.12725225, -1.57914062],\n",
       "       [-0.55437657,  1.44188719],\n",
       "       [-1.22273153,  0.48329183],\n",
       "       [-0.26793873,  0.1347117 ],\n",
       "       [-1.41369009, -1.23056049],\n",
       "       [ 1.25972975, -1.37580221],\n",
       "       [ 0.30493695, -1.1724638 ],\n",
       "       [-0.84081441, -0.67864195],\n",
       "       [ 0.20945767,  0.22185673],\n",
       "       [ 2.02356399,  0.36709845],\n",
       "       [ 0.11397839,  0.01851832],\n",
       "       [ 0.30493695, -0.56244857],\n",
       "       [ 0.11397839,  1.84856401],\n",
       "       [ 0.40041623,  0.25090507],\n",
       "       [-0.07698017, -1.08531877],\n",
       "       [-0.45889729, -0.79483532],\n",
       "       [-1.79560721, -0.01053002],\n",
       "       [ 0.97329191,  1.84856401],\n",
       "       [ 0.59137479,  1.99380574],\n",
       "       [-0.74533513,  1.87761236],\n",
       "       [-0.36341801, -1.31770552],\n",
       "       [-1.03177297, -1.14341545],\n",
       "       [ 0.87781263, -0.67864195],\n",
       "       [ 0.87781263, -0.59149691],\n",
       "       [ 0.78233335, -0.85293201],\n",
       "       [-0.26793873, -0.3881585 ],\n",
       "       [ 0.87781263,  1.23854878],\n",
       "       [ 0.87781263,  1.00616203],\n",
       "       [ 0.40041623,  1.09330706],\n",
       "       [ 0.97329191,  0.74472693],\n",
       "       [-0.93629369, -0.96912539],\n",
       "       [ 2.11904327, -0.82388367],\n",
       "       [ 0.97329191,  2.05190242],\n",
       "       [ 0.11397839,  1.49998388],\n",
       "       [-0.07698017,  0.19280839],\n",
       "       [-1.12725225,  0.04756666],\n",
       "       [ 1.06877119,  0.45424348],\n",
       "       [-0.55437657,  1.35474216],\n",
       "       [ 1.83260543, -0.30101347],\n",
       "       [-0.07698017, -0.44625519],\n",
       "       [-0.74533513,  0.54138852],\n",
       "       [ 0.87781263, -1.37580221],\n",
       "       [ 0.30493695, -0.30101347],\n",
       "       [-1.70012793,  0.45424348],\n",
       "       [-0.64985585, -0.35911016],\n",
       "       [-0.64985585, -1.05627042],\n",
       "       [-1.03177297, -1.46294724],\n",
       "       [-0.64985585, -1.60818896],\n",
       "       [-0.45889729, -1.23056049],\n",
       "       [-0.26793873,  0.19280839],\n",
       "       [-1.31821081, -0.35911016],\n",
       "       [-0.84081441,  2.25524084],\n",
       "       [-0.07698017,  0.6575819 ],\n",
       "       [ 1.06877119, -0.99817373],\n",
       "       [ 0.40041623, -0.01053002],\n",
       "       [-0.17245945, -0.47530353],\n",
       "       [ 0.78233335, -1.37580221],\n",
       "       [-0.07698017,  2.13904746],\n",
       "       [-0.17245945,  0.1347117 ],\n",
       "       [-0.93629369,  0.54138852],\n",
       "       [-0.26793873, -0.76578698],\n",
       "       [-0.07698017,  0.10566335],\n",
       "       [ 0.20945767,  0.01851832],\n",
       "       [ 1.92808471,  2.13904746],\n",
       "       [ 0.49589551,  1.81951567],\n",
       "       [-0.55437657,  1.87761236],\n",
       "       [ 0.40041623, -0.15577175],\n",
       "       [ 1.06877119, -0.9110287 ],\n",
       "       [-0.55437657, -1.52104393],\n",
       "       [-1.03177297,  0.74472693],\n",
       "       [ 1.54616759, -0.01053002],\n",
       "       [-1.31821081, -0.44625519],\n",
       "       [-1.79560721, -1.4338989 ],\n",
       "       [ 0.40041623,  2.28428918],\n",
       "       [-1.31821081, -1.49199559],\n",
       "       [-1.89108649,  0.45424348],\n",
       "       [-0.26793873,  0.07661501],\n",
       "       [-1.31821081, -1.11436711],\n",
       "       [ 0.20945767, -0.67864195],\n",
       "       [ 0.68685407, -0.73673863],\n",
       "       [-0.45889729,  1.23854878],\n",
       "       [ 2.11904327, -1.05627042],\n",
       "       [ 0.30493695, -0.73673863],\n",
       "       [ 1.25972975,  1.84856401],\n",
       "       [ 1.83260543, -1.08531877],\n",
       "       [-0.26793873, -0.67864195],\n",
       "       [-0.17245945, -0.21386844],\n",
       "       [-0.26793873,  1.09330706],\n",
       "       [-0.26793873, -0.59149691],\n",
       "       [ 1.06877119, -1.23056049],\n",
       "       [ 0.78233335,  0.25090507],\n",
       "       [-0.26793873,  0.04756666],\n",
       "       [-0.26793873, -1.31770552],\n",
       "       [ 0.01849911,  0.01851832],\n",
       "       [-0.17245945,  1.58712891],\n",
       "       [-0.64985585,  0.54138852],\n",
       "       [ 1.35520903,  1.96475739],\n",
       "       [ 0.30493695,  0.04756666],\n",
       "       [-0.26793873, -0.94007704],\n",
       "       [-1.12725225,  0.3961468 ],\n",
       "       [-1.89108649,  0.33805011],\n",
       "       [ 0.40041623,  0.57043686],\n",
       "       [ 1.73712615,  1.81951567],\n",
       "       [-0.07698017,  1.93570905],\n",
       "       [ 0.40041623, -0.50435188],\n",
       "       [ 0.20945767,  2.08095077],\n",
       "       [-0.07698017,  0.04756666],\n",
       "       [ 0.20945767,  0.1347117 ],\n",
       "       [ 0.30493695,  0.48329183],\n",
       "       [-1.12725225, -1.60818896],\n",
       "       [-1.31821081,  0.54138852],\n",
       "       [ 0.30493695, -0.53340022],\n",
       "       [-0.74533513,  0.48329183],\n",
       "       [ 1.92808471,  0.88996865],\n",
       "       [-1.89108649, -0.53340022],\n",
       "       [ 1.54616759,  1.09330706],\n",
       "       [-0.17245945, -1.08531877],\n",
       "       [-0.45889729, -1.14341545],\n",
       "       [-0.64985585,  0.01851832],\n",
       "       [-0.84081441, -0.27196512],\n",
       "       [ 1.25972975,  2.19714415],\n",
       "       [-0.07698017, -0.01053002],\n",
       "       [-1.03177297, -1.55009228],\n",
       "       [ 0.87781263, -1.31770552],\n",
       "       [ 0.30493695,  0.04756666],\n",
       "       [ 1.92808471, -0.67864195],\n",
       "       [-0.26793873,  0.59948521],\n",
       "       [ 0.40041623,  0.27995342],\n",
       "       [ 1.83260543,  0.10566335],\n",
       "       [-0.26793873, -0.35911016],\n",
       "       [ 0.11397839, -0.33006181],\n",
       "       [-0.64985585, -0.1267234 ],\n",
       "       [ 0.01849911, -0.59149691],\n",
       "       [-1.03177297,  1.93570905],\n",
       "       [-0.74533513, -0.62054526],\n",
       "       [ 0.97329191, -1.20151214],\n",
       "       [ 1.64164687,  1.73237064],\n",
       "       [-0.26793873,  0.1347117 ],\n",
       "       [ 2.11904327,  1.09330706],\n",
       "       [-1.22273153,  0.57043686],\n",
       "       [-1.12725225, -1.55009228],\n",
       "       [-0.07698017, -0.50435188],\n",
       "       [-0.07698017,  0.27995342],\n",
       "       [ 0.78233335, -1.11436711],\n",
       "       [-0.26793873, -1.37580221],\n",
       "       [ 0.97329191, -1.08531877],\n",
       "       [ 1.45068831,  2.10999911],\n",
       "       [-1.03177297,  0.51234017],\n",
       "       [-0.93629369, -0.76578698],\n",
       "       [-1.12725225,  0.45424348],\n",
       "       [ 1.92808471,  0.71567858],\n",
       "       [ 0.68685407, -1.11436711],\n",
       "       [-1.70012793, -1.37580221],\n",
       "       [ 0.97329191,  1.41283885],\n",
       "       [ 0.30493695, -0.21386844],\n",
       "       [ 2.11904327,  0.91901699],\n",
       "       [-0.45889729, -0.85293201],\n",
       "       [ 0.78233335,  0.10566335],\n",
       "       [ 0.40041623, -0.47530353],\n",
       "       [-0.64985585, -0.06862671],\n",
       "       [-0.64985585,  0.10566335],\n",
       "       [ 0.97329191,  1.96475739],\n",
       "       [ 0.11397839,  0.19280839],\n",
       "       [ 0.01849911,  0.27995342],\n",
       "       [-1.31821081, -1.25960883],\n",
       "       [-1.31821081, -1.37580221],\n",
       "       [ 0.40041623, -0.47530353],\n",
       "       [ 0.11397839, -0.82388367],\n",
       "       [-0.74533513, -1.60818896],\n",
       "       [-1.22273153, -1.40485055],\n",
       "       [ 2.11904327,  0.36709845],\n",
       "       [-0.07698017,  0.01851832],\n",
       "       [ 1.45068831,  0.97711368],\n",
       "       [-0.17245945, -0.59149691],\n",
       "       [ 2.11904327, -0.70769029],\n",
       "       [-0.84081441, -0.79483532],\n",
       "       [-0.07698017, -0.3881585 ],\n",
       "       [ 0.97329191, -1.02722208],\n",
       "       [ 0.01849911, -0.33006181],\n",
       "       [ 0.11397839,  0.74472693],\n",
       "       [ 1.92808471, -0.94007704],\n",
       "       [ 1.06877119, -1.23056049],\n",
       "       [ 0.97329191, -1.08531877],\n",
       "       [-1.50916937,  0.30900176],\n",
       "       [-1.12725225, -1.02722208],\n",
       "       [ 0.87781263,  1.06425872],\n",
       "       [ 0.20945767,  0.1347117 ],\n",
       "       [ 0.11397839,  1.03521037],\n",
       "       [-0.93629369,  0.3961468 ],\n",
       "       [-0.26793873,  0.01851832],\n",
       "       [ 0.68685407, -1.40485055],\n",
       "       [ 0.20945767, -0.3881585 ],\n",
       "       [-1.41369009, -0.21386844],\n",
       "       [-1.79560721, -1.49199559],\n",
       "       [-0.36341801,  0.04756666],\n",
       "       [-0.84081441, -1.23056049],\n",
       "       [-0.55437657,  1.35474216],\n",
       "       [-0.17245945,  1.61617726],\n",
       "       [-0.93629369, -0.33006181],\n",
       "       [-1.50916937, -1.52104393],\n",
       "       [-1.22273153,  0.25090507],\n",
       "       [ 1.45068831, -1.05627042],\n",
       "       [ 0.01849911,  0.01851832],\n",
       "       [-1.50916937, -0.44625519],\n",
       "       [ 0.01849911, -0.27196512],\n",
       "       [ 0.97329191, -0.85293201],\n",
       "       [ 0.20945767, -0.30101347],\n",
       "       [-1.60464865, -0.06862671],\n",
       "       [-1.12725225, -0.53340022],\n",
       "       [ 1.16425047,  0.51234017],\n",
       "       [ 0.78233335,  0.51234017],\n",
       "       [ 0.68685407,  1.76141898],\n",
       "       [-0.26793873,  2.22619249],\n",
       "       [-0.45889729, -0.03957837],\n",
       "       [ 0.30493695,  0.04756666],\n",
       "       [-1.12725225, -0.79483532],\n",
       "       [ 1.64164687, -0.9110287 ],\n",
       "       [ 0.78233335, -1.40485055],\n",
       "       [ 1.35520903,  0.57043686],\n",
       "       [ 0.11397839, -0.82388367],\n",
       "       [ 0.30493695,  0.27995342],\n",
       "       [ 0.68685407, -1.28865718],\n",
       "       [-0.93629369,  0.42519514],\n",
       "       [-1.70012793,  0.33805011],\n",
       "       [ 1.54616759,  0.97711368],\n",
       "       [-1.70012793, -0.99817373],\n",
       "       [ 1.83260543, -1.28865718],\n",
       "       [ 1.35520903,  1.26759713],\n",
       "       [-0.55437657,  2.31333752],\n",
       "       [ 2.02356399,  1.73237064],\n",
       "       [-0.74533513, -0.24291678],\n",
       "       [-0.17245945,  0.83187196],\n",
       "       [-0.36341801,  1.20950044],\n",
       "       [ 1.54616759, -1.28865718],\n",
       "       [ 0.87781263, -1.46294724],\n",
       "       [-0.17245945, -0.30101347],\n",
       "       [-0.36341801, -0.79483532],\n",
       "       [ 1.35520903, -0.94007704],\n",
       "       [-1.03177297,  0.3961468 ],\n",
       "       [ 0.40041623,  0.27995342],\n",
       "       [-1.03177297, -0.47530353],\n",
       "       [-1.22273153,  0.27995342],\n",
       "       [ 0.30493695,  0.25090507],\n",
       "       [ 0.20945767, -0.27196512],\n",
       "       [ 1.45068831,  0.04756666],\n",
       "       [-1.60464865,  0.51234017],\n",
       "       [ 0.59137479, -0.9110287 ],\n",
       "       [-1.60464865,  0.04756666],\n",
       "       [ 1.83260543,  1.49998388],\n",
       "       [-0.93629369, -1.11436711],\n",
       "       [ 1.16425047, -0.99817373],\n",
       "       [ 0.01849911,  1.20950044],\n",
       "       [ 0.40041623,  0.97711368],\n",
       "       [ 0.49589551,  1.70332229],\n",
       "       [ 1.06877119,  0.10566335],\n",
       "       [-1.12725225, -1.60818896],\n",
       "       [ 0.20945767,  1.06425872],\n",
       "       [ 0.01849911,  1.23854878],\n",
       "       [-1.12725225,  0.30900176],\n",
       "       [-0.84081441,  0.1347117 ],\n",
       "       [ 1.06877119,  2.05190242]])"
      ]
     },
     "execution_count": 12,
     "metadata": {},
     "output_type": "execute_result"
    }
   ],
   "source": [
    "X_train = scaler.fit_transform(X_train)\n",
    "X_train"
   ]
  },
  {
   "cell_type": "code",
   "execution_count": 13,
   "metadata": {
    "collapsed": true
   },
   "outputs": [
    {
     "data": {
      "text/plain": [
       "array([[-0.5798907 , -1.52000699],\n",
       "       [-1.63423743,  0.20788728],\n",
       "       [ 2.19975068, -0.77948087],\n",
       "       [-0.10064219, -0.47092833],\n",
       "       [-0.3881913 , -0.50178358],\n",
       "       [ 0.37860633,  0.11532151],\n",
       "       [ 0.95370454, -0.50178358],\n",
       "       [ 0.76200514, -1.39658597],\n",
       "       [-0.5798907 ,  0.26959779],\n",
       "       [-1.73008714, -1.27316495],\n",
       "       [-0.3881913 , -0.22408629],\n",
       "       [ 2.10390098,  2.33689985],\n",
       "       [-0.5798907 ,  1.56551849],\n",
       "       [ 0.28275662,  0.14617677],\n",
       "       [-0.19649189,  0.36216355],\n",
       "       [-1.34668832, -1.45829648],\n",
       "       [-1.73008714, -1.3040202 ],\n",
       "       [-0.86743981,  1.71979476],\n",
       "       [ 0.85785484,  0.88670288],\n",
       "       [-0.77159011,  0.48558457],\n",
       "       [ 1.81635187, -0.22408629],\n",
       "       [ 1.43295306,  2.55288664],\n",
       "       [ 1.14540395, -0.06981001],\n",
       "       [ 2.10390098, -0.77948087],\n",
       "       [-0.6757404 ,  0.36216355],\n",
       "       [ 0.09105722, -0.50178358],\n",
       "       [ 1.52880276,  0.45472932],\n",
       "       [ 1.24125365, -0.71777036],\n",
       "       [-0.77159011,  0.48558457],\n",
       "       [-0.19649189, -0.44007307],\n",
       "       [-0.19649189, -0.87204664],\n",
       "       [-0.00479249,  2.42946562],\n",
       "       [ 1.43295306, -1.42744122],\n",
       "       [-0.3881913 ,  2.52203138],\n",
       "       [-0.96328951, -0.31665205],\n",
       "       [-0.19649189, -1.45829648],\n",
       "       [-1.34668832, -0.03895476],\n",
       "       [-1.53838773, -1.5817175 ],\n",
       "       [-0.19649189, -0.53263883],\n",
       "       [-0.77159011,  0.39301881],\n",
       "       [ 1.14540395,  0.6707161 ],\n",
       "       [ 0.09105722, -0.19323103],\n",
       "       [ 0.95370454, -0.74862562],\n",
       "       [ 0.18690692,  2.05920256],\n",
       "       [-0.00479249,  0.3313083 ],\n",
       "       [-1.44253803, -0.13152052],\n",
       "       [-0.96328951, -0.2857968 ],\n",
       "       [-0.86743981,  0.60900559],\n",
       "       [-0.484041  ,  0.57815034],\n",
       "       [ 0.28275662, -0.06981001],\n",
       "       [ 0.95370454, -0.56349409],\n",
       "       [-0.86743981, -0.25494154],\n",
       "       [ 0.47445603,  0.17703202],\n",
       "       [ 1.72050217,  1.78150527],\n",
       "       [ 0.37860633, -0.47092833],\n",
       "       [-1.05913922,  1.56551849],\n",
       "       [ 0.47445603,  0.23874253],\n",
       "       [ 0.85785484,  0.45472932],\n",
       "       [-1.34668832, -0.59434934],\n",
       "       [ 0.28275662, -0.31665205],\n",
       "       [ 0.47445603, -0.10066527],\n",
       "       [-0.484041  ,  1.0101239 ],\n",
       "       [-0.96328951,  0.6707161 ],\n",
       "       [-0.19649189, -0.25494154],\n",
       "       [ 0.37860633,  0.14617677],\n",
       "       [ 0.18690692,  0.36216355],\n",
       "       [-0.484041  , -1.52000699],\n",
       "       [ 0.09105722, -0.53263883],\n",
       "       [-1.73008714,  0.54729508],\n",
       "       [ 0.57030573,  1.38038696],\n",
       "       [ 0.37860633, -0.25494154],\n",
       "       [-0.00479249, -0.16237578],\n",
       "       [ 1.14540395,  0.63986084],\n",
       "       [-0.29234159, -0.74862562],\n",
       "       [-1.63423743, -0.56349409],\n",
       "       [ 1.04955425, -1.14974393],\n",
       "       [-1.05913922, -1.08803342],\n",
       "       [-0.19649189, -1.39658597],\n",
       "       [-0.19649189,  0.63986084],\n",
       "       [ 2.00805127, -1.36573071]])"
      ]
     },
     "execution_count": 13,
     "metadata": {},
     "output_type": "execute_result"
    }
   ],
   "source": [
    "X_test = scaler.fit_transform(X_test)\n",
    "X_test"
   ]
  },
  {
   "cell_type": "code",
   "execution_count": 14,
   "metadata": {},
   "outputs": [
    {
     "data": {
      "text/plain": [
       "17.88854381999832"
      ]
     },
     "execution_count": 14,
     "metadata": {},
     "output_type": "execute_result"
    }
   ],
   "source": [
    "# 1st method of finding k\n",
    "np.sqrt(X_train.shape[0])"
   ]
  },
  {
   "cell_type": "code",
   "execution_count": 15,
   "metadata": {},
   "outputs": [],
   "source": [
    "k = 17"
   ]
  },
  {
   "cell_type": "code",
   "execution_count": 16,
   "metadata": {},
   "outputs": [],
   "source": [
    "from sklearn.neighbors import KNeighborsClassifier\n",
    "knn = KNeighborsClassifier(n_neighbors=k)"
   ]
  },
  {
   "cell_type": "markdown",
   "metadata": {},
   "source": [
    "### Train our model"
   ]
  },
  {
   "cell_type": "code",
   "execution_count": 17,
   "metadata": {},
   "outputs": [
    {
     "data": {
      "text/plain": [
       "KNeighborsClassifier(algorithm='auto', leaf_size=30, metric='minkowski',\n",
       "                     metric_params=None, n_jobs=None, n_neighbors=17, p=2,\n",
       "                     weights='uniform')"
      ]
     },
     "execution_count": 17,
     "metadata": {},
     "output_type": "execute_result"
    }
   ],
   "source": [
    "knn.fit(X_train,y_train)"
   ]
  },
  {
   "cell_type": "code",
   "execution_count": 18,
   "metadata": {},
   "outputs": [],
   "source": [
    "y_pred = knn.predict(X_test)"
   ]
  },
  {
   "cell_type": "code",
   "execution_count": 19,
   "metadata": {},
   "outputs": [
    {
     "data": {
      "text/plain": [
       "(80,)"
      ]
     },
     "execution_count": 19,
     "metadata": {},
     "output_type": "execute_result"
    }
   ],
   "source": [
    "y_pred.shape"
   ]
  },
  {
   "cell_type": "code",
   "execution_count": 20,
   "metadata": {},
   "outputs": [
    {
     "data": {
      "text/plain": [
       "(80,)"
      ]
     },
     "execution_count": 20,
     "metadata": {},
     "output_type": "execute_result"
    }
   ],
   "source": [
    "y_test.shape"
   ]
  },
  {
   "cell_type": "code",
   "execution_count": 21,
   "metadata": {},
   "outputs": [
    {
     "data": {
      "text/plain": [
       "0.8875"
      ]
     },
     "execution_count": 21,
     "metadata": {},
     "output_type": "execute_result"
    }
   ],
   "source": [
    "from sklearn.metrics import accuracy_score\n",
    "accuracy_score(y_test,y_pred)"
   ]
  },
  {
   "cell_type": "code",
   "execution_count": 22,
   "metadata": {},
   "outputs": [
    {
     "data": {
      "text/plain": [
       "array([[50,  7],\n",
       "       [ 2, 21]], dtype=int64)"
      ]
     },
     "execution_count": 22,
     "metadata": {},
     "output_type": "execute_result"
    }
   ],
   "source": [
    "from sklearn.metrics import confusion_matrix\n",
    "confusion_matrix(y_test,y_pred)"
   ]
  },
  {
   "cell_type": "code",
   "execution_count": 23,
   "metadata": {},
   "outputs": [],
   "source": [
    "# 2nd method of k"
   ]
  },
  {
   "cell_type": "code",
   "execution_count": 24,
   "metadata": {},
   "outputs": [],
   "source": [
    "\n",
    "accuracy = []\n",
    "\n",
    "for i in range(1,26):\n",
    "    knn = KNeighborsClassifier(n_neighbors=i)\n",
    "    knn.fit(X_train,y_train)\n",
    "    accuracy.append(accuracy_score(y_test,knn.predict(X_test)))"
   ]
  },
  {
   "cell_type": "code",
   "execution_count": 25,
   "metadata": {},
   "outputs": [
    {
     "data": {
      "text/plain": [
       "25"
      ]
     },
     "execution_count": 25,
     "metadata": {},
     "output_type": "execute_result"
    }
   ],
   "source": [
    "len(accuracy)"
   ]
  },
  {
   "cell_type": "code",
   "execution_count": 26,
   "metadata": {},
   "outputs": [
    {
     "data": {
      "text/plain": [
       "[<matplotlib.lines.Line2D at 0x297896edf88>]"
      ]
     },
     "execution_count": 26,
     "metadata": {},
     "output_type": "execute_result"
    },
    {
     "data": {
      "image/png": "[encoded data removed]",
      "text/plain": [
       "<Figure size 432x288 with 1 Axes>"
      ]
     },
     "metadata": {
      "needs_background": "light"
     },
     "output_type": "display_data"
    }
   ],
   "source": [
    "plt.plot(range(1,26),accuracy)"
   ]
  },
  {
   "cell_type": "code",
   "execution_count": 40,
   "metadata": {},
   "outputs": [
    {
     "data": {
      "text/plain": [
       "KNeighborsClassifier(algorithm='auto', leaf_size=30, metric='minkowski',\n",
       "                     metric_params=None, n_jobs=None, n_neighbors=20, p=2,\n",
       "                     weights='uniform')"
      ]
     },
     "execution_count": 40,
     "metadata": {},
     "output_type": "execute_result"
    }
   ],
   "source": [
    "knn = KNeighborsClassifier(n_neighbors=20)\n",
    "knn.fit(X_train,y_train)"
   ]
  },
  {
   "cell_type": "code",
   "execution_count": 41,
   "metadata": {},
   "outputs": [],
   "source": [
    "y_pred = knn.predict(X_test)"
   ]
  },
  {
   "cell_type": "code",
   "execution_count": 42,
   "metadata": {},
   "outputs": [
    {
     "data": {
      "text/plain": [
       "0.8875"
      ]
     },
     "execution_count": 42,
     "metadata": {},
     "output_type": "execute_result"
    }
   ],
   "source": [
    "accuracy_score(y_test,y_pred)"
   ]
  },
  {
   "cell_type": "code",
   "execution_count": 38,
   "metadata": {},
   "outputs": [],
   "source": [
    "def predict_output():\n",
    "    age= int(input(\"Enter the age \"))\n",
    "    salary= int(input(\"Enter the salary \"))\n",
    "    \n",
    "    X_new=np.array([[age],[salary]]).reshape(1,2)\n",
    "    X_new=scaler.transform(X_new)\n",
    "    \n",
    "    if knn.predict(X_new)[0] == 0:\n",
    "        return \"Will not purchase\"\n",
    "    else:\n",
    "        return \"Will purchase\""
   ]
  },
  {
   "cell_type": "code",
   "execution_count": 39,
   "metadata": {},
   "outputs": [
    {
     "name": "stdout",
     "output_type": "stream",
     "text": [
      "Enter the age 20\n",
      "Enter the salary 400000\n"
     ]
    },
    {
     "data": {
      "text/plain": [
       "'Will purchase'"
      ]
     },
     "execution_count": 39,
     "metadata": {},
     "output_type": "execute_result"
    }
   ],
   "source": [
    "predict_output()"
   ]
  }
 ],
 "metadata": {
  "kernelspec": {
   "display_name": "Python 3",
   "language": "python",
   "name": "python3"
  },
  "language_info": {
   "codemirror_mode": {
    "name": "ipython",
    "version": 3
   },
   "file_extension": ".py",
   "mimetype": "text/x-python",
   "name": "python",
   "nbconvert_exporter": "python",
   "pygments_lexer": "ipython3",
   "version": "3.7.6"
  }
 },
 "nbformat": 4,
 "nbformat_minor": 4
}
